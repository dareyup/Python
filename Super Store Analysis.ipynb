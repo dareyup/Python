{
 "cells": [
  {
   "cell_type": "markdown",
   "id": "7523d8f7",
   "metadata": {},
   "source": [
    "# Super Store Data Analysis\n",
    "\n",
    "## The dataset contains sales details of different stores of a supermarket chain that has multiple stores in different parts of the US\n",
    "\n",
    "With columns such as:\n",
    "\n",
    "- Ship Mode \n",
    "- Segment\n",
    "- Country\n",
    "- City\n",
    "- State\n",
    "- Postal code\n",
    "- Region\n",
    "- Category\n",
    "- Sub-category\n",
    "- Sales\n",
    "- Quantity\n",
    "- Discount\n",
    "- Profit\n",
    "\n",
    "### My goal is to perform EDA/Preliminary analysis on this dataset, essentially to find any trends, patterns, anything that will provide insight into the dataset. "
   ]
  },
  {
   "cell_type": "markdown",
   "id": "008ec3c4",
   "metadata": {},
   "source": [
    "# Initial Data Exploration"
   ]
  },
  {
   "cell_type": "code",
   "execution_count": 2,
   "id": "32f76e7f",
   "metadata": {},
   "outputs": [],
   "source": [
    "# import libraries\n",
    "import numpy as np\n",
    "import pandas as pd\n",
    "import matplotlib.pyplot as plt\n",
    "import seaborn as sns"
   ]
  },
  {
   "cell_type": "code",
   "execution_count": 4,
   "id": "06aa223d",
   "metadata": {},
   "outputs": [
    {
     "data": {
      "text/html": [
       "<div>\n",
       "<style scoped>\n",
       "    .dataframe tbody tr th:only-of-type {\n",
       "        vertical-align: middle;\n",
       "    }\n",
       "\n",
       "    .dataframe tbody tr th {\n",
       "        vertical-align: top;\n",
       "    }\n",
       "\n",
       "    .dataframe thead th {\n",
       "        text-align: right;\n",
       "    }\n",
       "</style>\n",
       "<table border=\"1\" class=\"dataframe\">\n",
       "  <thead>\n",
       "    <tr style=\"text-align: right;\">\n",
       "      <th></th>\n",
       "      <th>Ship Mode</th>\n",
       "      <th>Segment</th>\n",
       "      <th>Country</th>\n",
       "      <th>City</th>\n",
       "      <th>State</th>\n",
       "      <th>Postal Code</th>\n",
       "      <th>Region</th>\n",
       "      <th>Category</th>\n",
       "      <th>Sub-Category</th>\n",
       "      <th>Sales</th>\n",
       "      <th>Quantity</th>\n",
       "      <th>Discount</th>\n",
       "      <th>Profit</th>\n",
       "    </tr>\n",
       "  </thead>\n",
       "  <tbody>\n",
       "    <tr>\n",
       "      <th>0</th>\n",
       "      <td>Second Class</td>\n",
       "      <td>Consumer</td>\n",
       "      <td>United States</td>\n",
       "      <td>Henderson</td>\n",
       "      <td>Kentucky</td>\n",
       "      <td>42420</td>\n",
       "      <td>South</td>\n",
       "      <td>Furniture</td>\n",
       "      <td>Bookcases</td>\n",
       "      <td>261.9600</td>\n",
       "      <td>2</td>\n",
       "      <td>0.00</td>\n",
       "      <td>41.9136</td>\n",
       "    </tr>\n",
       "    <tr>\n",
       "      <th>1</th>\n",
       "      <td>Second Class</td>\n",
       "      <td>Consumer</td>\n",
       "      <td>United States</td>\n",
       "      <td>Henderson</td>\n",
       "      <td>Kentucky</td>\n",
       "      <td>42420</td>\n",
       "      <td>South</td>\n",
       "      <td>Furniture</td>\n",
       "      <td>Chairs</td>\n",
       "      <td>731.9400</td>\n",
       "      <td>3</td>\n",
       "      <td>0.00</td>\n",
       "      <td>219.5820</td>\n",
       "    </tr>\n",
       "    <tr>\n",
       "      <th>2</th>\n",
       "      <td>Second Class</td>\n",
       "      <td>Corporate</td>\n",
       "      <td>United States</td>\n",
       "      <td>Los Angeles</td>\n",
       "      <td>California</td>\n",
       "      <td>90036</td>\n",
       "      <td>West</td>\n",
       "      <td>Office Supplies</td>\n",
       "      <td>Labels</td>\n",
       "      <td>14.6200</td>\n",
       "      <td>2</td>\n",
       "      <td>0.00</td>\n",
       "      <td>6.8714</td>\n",
       "    </tr>\n",
       "    <tr>\n",
       "      <th>3</th>\n",
       "      <td>Standard Class</td>\n",
       "      <td>Consumer</td>\n",
       "      <td>United States</td>\n",
       "      <td>Fort Lauderdale</td>\n",
       "      <td>Florida</td>\n",
       "      <td>33311</td>\n",
       "      <td>South</td>\n",
       "      <td>Furniture</td>\n",
       "      <td>Tables</td>\n",
       "      <td>957.5775</td>\n",
       "      <td>5</td>\n",
       "      <td>0.45</td>\n",
       "      <td>-383.0310</td>\n",
       "    </tr>\n",
       "    <tr>\n",
       "      <th>4</th>\n",
       "      <td>Standard Class</td>\n",
       "      <td>Consumer</td>\n",
       "      <td>United States</td>\n",
       "      <td>Fort Lauderdale</td>\n",
       "      <td>Florida</td>\n",
       "      <td>33311</td>\n",
       "      <td>South</td>\n",
       "      <td>Office Supplies</td>\n",
       "      <td>Storage</td>\n",
       "      <td>22.3680</td>\n",
       "      <td>2</td>\n",
       "      <td>0.20</td>\n",
       "      <td>2.5164</td>\n",
       "    </tr>\n",
       "  </tbody>\n",
       "</table>\n",
       "</div>"
      ],
      "text/plain": [
       "        Ship Mode    Segment        Country             City       State  \\\n",
       "0    Second Class   Consumer  United States        Henderson    Kentucky   \n",
       "1    Second Class   Consumer  United States        Henderson    Kentucky   \n",
       "2    Second Class  Corporate  United States      Los Angeles  California   \n",
       "3  Standard Class   Consumer  United States  Fort Lauderdale     Florida   \n",
       "4  Standard Class   Consumer  United States  Fort Lauderdale     Florida   \n",
       "\n",
       "   Postal Code Region         Category Sub-Category     Sales  Quantity  \\\n",
       "0        42420  South        Furniture    Bookcases  261.9600         2   \n",
       "1        42420  South        Furniture       Chairs  731.9400         3   \n",
       "2        90036   West  Office Supplies       Labels   14.6200         2   \n",
       "3        33311  South        Furniture       Tables  957.5775         5   \n",
       "4        33311  South  Office Supplies      Storage   22.3680         2   \n",
       "\n",
       "   Discount    Profit  \n",
       "0      0.00   41.9136  \n",
       "1      0.00  219.5820  \n",
       "2      0.00    6.8714  \n",
       "3      0.45 -383.0310  \n",
       "4      0.20    2.5164  "
      ]
     },
     "execution_count": 4,
     "metadata": {},
     "output_type": "execute_result"
    }
   ],
   "source": [
    "# import the data \n",
    "ssdata = pd.read_csv('SampleSuperstore.csv')\n",
    "ssdata.head()"
   ]
  },
  {
   "cell_type": "code",
   "execution_count": 14,
   "id": "3a1e097a",
   "metadata": {},
   "outputs": [
    {
     "name": "stdout",
     "output_type": "stream",
     "text": [
      "<class 'pandas.core.frame.DataFrame'>\n",
      "RangeIndex: 9994 entries, 0 to 9993\n",
      "Data columns (total 13 columns):\n",
      " #   Column        Non-Null Count  Dtype  \n",
      "---  ------        --------------  -----  \n",
      " 0   Ship Mode     9994 non-null   object \n",
      " 1   Segment       9994 non-null   object \n",
      " 2   Country       9994 non-null   object \n",
      " 3   City          9994 non-null   object \n",
      " 4   State         9994 non-null   object \n",
      " 5   Postal Code   9994 non-null   int64  \n",
      " 6   Region        9994 non-null   object \n",
      " 7   Category      9994 non-null   object \n",
      " 8   Sub-Category  9994 non-null   object \n",
      " 9   Sales         9994 non-null   float64\n",
      " 10  Quantity      9994 non-null   int64  \n",
      " 11  Discount      9994 non-null   float64\n",
      " 12  Profit        9994 non-null   float64\n",
      "dtypes: float64(3), int64(2), object(8)\n",
      "memory usage: 1015.1+ KB\n"
     ]
    }
   ],
   "source": [
    "# Inspect the data | get an idea of what I'm working with in terms of data types, columns, number of entries, etc. \n",
    "ssdata.info()\n",
    "\n",
    "#ssdata.shape\n",
    "\n",
    "# Basic Descriptive statistical info about dataset\n",
    "#ssdata.describe()"
   ]
  },
  {
   "cell_type": "code",
   "execution_count": null,
   "id": "58ee3e5c",
   "metadata": {},
   "outputs": [],
   "source": [
    "# There 49 states (inlcuding D.C.) - notice there is no data for Alaska and Hawaii - wonder why?\n",
    "sorted(ssdata.State.unique())"
   ]
  },
  {
   "cell_type": "code",
   "execution_count": 41,
   "id": "2f0ebd13",
   "metadata": {},
   "outputs": [],
   "source": [
    "# Let's see if there are any duplicates, if so, drop them\n",
    "#ssdata.duplicated().sum() -- 17 duplicates\n",
    "\n",
    "# Take a look at the duplicates just for fun\n",
    "#ssdata[ssdata.duplicated()]\n",
    "\n",
    "# Drop duplicates\n",
    "ssdata.drop_duplicates(inplace = True)"
   ]
  },
  {
   "cell_type": "markdown",
   "id": "11122dcb",
   "metadata": {},
   "source": [
    "## Further exploration into different Ship Modes, Segments, Categories, Sub-Categories"
   ]
  },
  {
   "cell_type": "code",
   "execution_count": 87,
   "id": "68262249",
   "metadata": {},
   "outputs": [
    {
     "data": {
      "text/plain": [
       "Standard Class    0.597\n",
       "Second Class      0.195\n",
       "First Class       0.154\n",
       "Same Day          0.054\n",
       "Name: Ship Mode, dtype: float64"
      ]
     },
     "execution_count": 87,
     "metadata": {},
     "output_type": "execute_result"
    }
   ],
   "source": [
    "round(ssdata['Ship Mode'].value_counts(normalize = True), 3)"
   ]
  },
  {
   "cell_type": "markdown",
   "id": "7e3e85d2",
   "metadata": {},
   "source": [
    "Standard Class accounts for almost 60% of sales -- That's something worth looking into!"
   ]
  },
  {
   "cell_type": "code",
   "execution_count": 89,
   "id": "b00a16a5",
   "metadata": {},
   "outputs": [
    {
     "data": {
      "text/plain": [
       "<AxesSubplot:xlabel='Ship Mode', ylabel='count'>"
      ]
     },
     "execution_count": 89,
     "metadata": {},
     "output_type": "execute_result"
    },
    {
     "data": {
      "image/png": "[encoded data removed]",
      "text/plain": [
       "<Figure size 432x288 with 1 Axes>"
      ]
     },
     "metadata": {
      "needs_background": "light"
     },
     "output_type": "display_data"
    }
   ],
   "source": [
    "sns.countplot(x = ssdata['Ship Mode'])"
   ]
  },
  {
   "cell_type": "code",
   "execution_count": 90,
   "id": "10cefa95",
   "metadata": {},
   "outputs": [
    {
     "data": {
      "text/plain": [
       "Consumer       0.519\n",
       "Corporate      0.302\n",
       "Home Office    0.178\n",
       "Name: Segment, dtype: float64"
      ]
     },
     "execution_count": 90,
     "metadata": {},
     "output_type": "execute_result"
    }
   ],
   "source": [
    "round(ssdata['Segment'].value_counts(normalize = True), 3)"
   ]
  },
  {
   "cell_type": "markdown",
   "id": "99fbf149",
   "metadata": {},
   "source": [
    "Consumers account for over half of all sales"
   ]
  },
  {
   "cell_type": "code",
   "execution_count": 92,
   "id": "59da1af5",
   "metadata": {},
   "outputs": [
    {
     "data": {
      "text/plain": [
       "<AxesSubplot:xlabel='Segment', ylabel='count'>"
      ]
     },
     "execution_count": 92,
     "metadata": {},
     "output_type": "execute_result"
    },
    {
     "data": {
      "image/png": "[encoded data removed]",
      "text/plain": [
       "<Figure size 432x288 with 1 Axes>"
      ]
     },
     "metadata": {
      "needs_background": "light"
     },
     "output_type": "display_data"
    }
   ],
   "source": [
    "sns.countplot(x = ssdata['Segment'])"
   ]
  },
  {
   "cell_type": "code",
   "execution_count": 93,
   "id": "52607cf9",
   "metadata": {},
   "outputs": [
    {
     "data": {
      "text/plain": [
       "Office Supplies    0.603\n",
       "Furniture          0.212\n",
       "Technology         0.185\n",
       "Name: Category, dtype: float64"
      ]
     },
     "execution_count": 93,
     "metadata": {},
     "output_type": "execute_result"
    }
   ],
   "source": [
    "round(ssdata['Category'].value_counts(normalize = True), 3)"
   ]
  },
  {
   "cell_type": "code",
   "execution_count": 94,
   "id": "94aab54f",
   "metadata": {},
   "outputs": [
    {
     "data": {
      "text/plain": [
       "<AxesSubplot:xlabel='Category', ylabel='count'>"
      ]
     },
     "execution_count": 94,
     "metadata": {},
     "output_type": "execute_result"
    },
    {
     "data": {
      "image/png": "[encoded data removed]",
      "text/plain": [
       "<Figure size 432x288 with 1 Axes>"
      ]
     },
     "metadata": {
      "needs_background": "light"
     },
     "output_type": "display_data"
    }
   ],
   "source": [
    "sns.countplot(x = ssdata['Category'])"
   ]
  },
  {
   "cell_type": "markdown",
   "id": "0ab50feb",
   "metadata": {},
   "source": [
    "Office Supplies account for 60% of all sales"
   ]
  },
  {
   "cell_type": "code",
   "execution_count": 16,
   "id": "4c9e4c56",
   "metadata": {},
   "outputs": [
    {
     "data": {
      "text/plain": [
       "State\n",
       "California    76381.39\n",
       "New York      74038.55\n",
       "Washington    33402.65\n",
       "Michigan      24463.19\n",
       "Virginia      18597.95\n",
       "Indiana       18382.94\n",
       "Georgia       16250.04\n",
       "Kentucky      11199.70\n",
       "Minnesota     10823.19\n",
       "Delaware       9977.37\n",
       "Name: Profit, dtype: float64"
      ]
     },
     "execution_count": 16,
     "metadata": {},
     "output_type": "execute_result"
    }
   ],
   "source": [
    "# What are the top 10 states that generate most profit\n",
    "round(ssdata.groupby('State')['Profit'].sum().nlargest(10), 2)"
   ]
  },
  {
   "cell_type": "code",
   "execution_count": 19,
   "id": "32c524dd",
   "metadata": {},
   "outputs": [
    {
     "data": {
      "text/plain": [
       "State\n",
       "Arizona           -3427.92\n",
       "Colorado          -6527.86\n",
       "Florida           -3399.30\n",
       "Illinois         -12607.89\n",
       "North Carolina    -7490.91\n",
       "Ohio             -16971.38\n",
       "Oregon            -1190.47\n",
       "Pennsylvania     -15559.96\n",
       "Tennessee         -5341.69\n",
       "Texas            -25729.36\n",
       "Name: Profit, dtype: float64"
      ]
     },
     "execution_count": 19,
     "metadata": {},
     "output_type": "execute_result"
    }
   ],
   "source": [
    "# What are the top 10 states that generate least amount of profit\n",
    "#round(ssdata.groupby('State')['Profit'].sum().nsmallest(10), 2)\n",
    "\n",
    "# Add code for all states that are generating loss \n",
    "loss_profit = round(ssdata.groupby('State')['Profit'].sum(), 2)\n",
    "loss_profit0 = loss_profit[loss_profit < 0]\n",
    "loss_profit0"
   ]
  },
  {
   "cell_type": "code",
   "execution_count": 124,
   "id": "96341e25",
   "metadata": {},
   "outputs": [
    {
     "data": {
      "text/html": [
       "<div>\n",
       "<style scoped>\n",
       "    .dataframe tbody tr th:only-of-type {\n",
       "        vertical-align: middle;\n",
       "    }\n",
       "\n",
       "    .dataframe tbody tr th {\n",
       "        vertical-align: top;\n",
       "    }\n",
       "\n",
       "    .dataframe thead th {\n",
       "        text-align: right;\n",
       "    }\n",
       "</style>\n",
       "<table border=\"1\" class=\"dataframe\">\n",
       "  <thead>\n",
       "    <tr style=\"text-align: right;\">\n",
       "      <th></th>\n",
       "      <th>Profit</th>\n",
       "      <th>Sales</th>\n",
       "    </tr>\n",
       "    <tr>\n",
       "      <th>Region</th>\n",
       "      <th></th>\n",
       "      <th></th>\n",
       "    </tr>\n",
       "  </thead>\n",
       "  <tbody>\n",
       "    <tr>\n",
       "      <th>West</th>\n",
       "      <td>108329.808</td>\n",
       "      <td>725255.636</td>\n",
       "    </tr>\n",
       "    <tr>\n",
       "      <th>East</th>\n",
       "      <td>91506.309</td>\n",
       "      <td>678435.196</td>\n",
       "    </tr>\n",
       "    <tr>\n",
       "      <th>Central</th>\n",
       "      <td>39655.875</td>\n",
       "      <td>500782.853</td>\n",
       "    </tr>\n",
       "    <tr>\n",
       "      <th>South</th>\n",
       "      <td>46749.430</td>\n",
       "      <td>391721.905</td>\n",
       "    </tr>\n",
       "  </tbody>\n",
       "</table>\n",
       "</div>"
      ],
      "text/plain": [
       "             Profit       Sales\n",
       "Region                         \n",
       "West     108329.808  725255.636\n",
       "East      91506.309  678435.196\n",
       "Central   39655.875  500782.853\n",
       "South     46749.430  391721.905"
      ]
     },
     "execution_count": 124,
     "metadata": {},
     "output_type": "execute_result"
    }
   ],
   "source": [
    "# Which region has the most profit and sales\n",
    "round(ssdata.groupby('Region')[['Profit', 'Sales']].sum(), 3).sort_values(by = ['Sales'], ascending = False)"
   ]
  },
  {
   "cell_type": "code",
   "execution_count": 126,
   "id": "de77b5fc",
   "metadata": {},
   "outputs": [
    {
     "data": {
      "text/plain": [
       "<AxesSubplot:xlabel='Discount', ylabel='Profit'>"
      ]
     },
     "execution_count": 126,
     "metadata": {},
     "output_type": "execute_result"
    },
    {
     "data": {
      "image/png": "[encoded data removed]",
      "text/plain": [
       "<Figure size 432x288 with 1 Axes>"
      ]
     },
     "metadata": {
      "needs_background": "light"
     },
     "output_type": "display_data"
    }
   ],
   "source": [
    "# Discount vs Profit\n",
    "sns.lineplot(data = ssdata, x = 'Discount', y = 'Profit')\n",
    "\n",
    "## Visually, there is a somewhat downward trend as the discount increases, profit decreases which makes sense"
   ]
  },
  {
   "cell_type": "code",
   "execution_count": 149,
   "id": "c4218b3b",
   "metadata": {
    "scrolled": true
   },
   "outputs": [
    {
     "data": {
      "text/plain": [
       "Ship Mode\n",
       "Standard Class    1357316.349\n",
       "Second Class       459177.045\n",
       "First Class        351380.471\n",
       "Same Day           128321.725\n",
       "Name: Sales, dtype: float64"
      ]
     },
     "execution_count": 149,
     "metadata": {},
     "output_type": "execute_result"
    }
   ],
   "source": [
    "# Ship Mode vs Sales\n",
    "round(ssdata.groupby('Ship Mode')['Sales'].sum(), 3).sort_values(ascending = False)"
   ]
  },
  {
   "cell_type": "code",
   "execution_count": 20,
   "id": "0d53ee02",
   "metadata": {},
   "outputs": [
    {
     "data": {
      "image/png": "[encoded data removed]",
      "text/plain": [
       "<Figure size 1296x864 with 1 Axes>"
      ]
     },
     "metadata": {
      "needs_background": "light"
     },
     "output_type": "display_data"
    }
   ],
   "source": [
    "# ssdata[ssdata.State == \"Texas\"][\"Profit\"].sum()\n",
    "\n",
    "#Profit vs Sales\n",
    "\n",
    "state_profit = ssdata.groupby(\"State\")[[\"Sales\",\"Profit\"]].sum().sort_values(by = \"Sales\", ascending = False)\n",
    "state_profit[:].plot.bar(color = [\"Green\", \"Red\"], figsize = (18,12))\n",
    "plt.title(\"Profit-Loss and Sales across States\")\n",
    "plt.show()"
   ]
  },
  {
   "cell_type": "markdown",
   "id": "b8c29f05",
   "metadata": {},
   "source": [
    "# Takeaways\n",
    "\n",
    "The west region generates the most profit and sales while the Central is the lowest in Profit and South is the lowets in Sales\n",
    "\n",
    "There are 10 states generating a loss, 6 of the states have relatively high sales\n",
    "\n",
    "51% of sales are consumer bought and just over 60% of sales are Office Supplies\n",
    "\n",
    "I think next steps would be to figure out why the South and Central regions are generating a loss and why sales are relatively low compared to the other regions (No data to explain opertating costs, etc). Texas has the 3rd most sales, why is it not turning a profit?\n",
    "\n",
    "Also with more data we could explore the vast difference in Category of sales -- Office Supplies is sold more than furniture and Technology, why? Is that something that can be helped? \n"
   ]
  },
  {
   "cell_type": "code",
   "execution_count": null,
   "id": "7d243cfb",
   "metadata": {},
   "outputs": [],
   "source": []
  }
 ],
 "metadata": {
  "kernelspec": {
   "display_name": "Python 3 (ipykernel)",
   "language": "python",
   "name": "python3"
  },
  "language_info": {
   "codemirror_mode": {
    "name": "ipython",
    "version": 3
   },
   "file_extension": ".py",
   "mimetype": "text/x-python",
   "name": "python",
   "nbconvert_exporter": "python",
   "pygments_lexer": "ipython3",
   "version": "3.9.12"
  }
 },
 "nbformat": 4,
 "nbformat_minor": 5
}
